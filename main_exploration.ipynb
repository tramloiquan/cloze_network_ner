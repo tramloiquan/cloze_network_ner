{
 "cells": [
  {
   "cell_type": "code",
   "execution_count": 1,
   "id": "c719d9c0",
   "metadata": {},
   "outputs": [],
   "source": [
    "import sys\n",
    "import torch\n",
    "import numpy as np\n",
    "from typing import List, Optional\n",
    "#\n",
    "sys.path.insert(1, \"lib\")\n",
    "#\n",
    "from clozenet import Pretraining, Finetuning"
   ]
  },
  {
   "cell_type": "markdown",
   "id": "4b538b1c",
   "metadata": {},
   "source": [
    "#### [A01] Test pretrain model"
   ]
  },
  {
   "cell_type": "code",
   "execution_count": 2,
   "id": "503941ee",
   "metadata": {},
   "outputs": [
    {
     "name": "stdout",
     "output_type": "stream",
     "text": [
      "torch.Size([13])\n",
      "tensor(10.3762, grad_fn=<MeanBackward0>) torch.Size([])\n"
     ]
    }
   ],
   "source": [
    "num_total_char = 200\n",
    "char_dim = 128\n",
    "width_list = [1,2,3,4,5,6]\n",
    "num_filters_list = [128,256,384,512,512,512]\n",
    "att_output_dim = 1024\n",
    "ffw_dim = 4096\n",
    "num_heads = 16\n",
    "num_block = 12\n",
    "num_heads_last = 32\n",
    "vocab_size = 1000 ### in paper 1.000.000\n",
    "cutoffs = [64,220] ### in paper [64.000, 220.000]\n",
    "### we have 13 sentences, each sentence has 11 words\n",
    "### first 6 words in forward, last 4 words in backward, 6th word for prediction (start from 0)\n",
    "### shape (batch_size, seq_size, max_len+2) = (13,6,7)\n",
    "ts10A_input_fw = torch.randint(0,num_total_char,(13,6,7))\n",
    "### shape (batch_size, seq_size, max_len+2) = (13,4,7)\n",
    "ts20A_input_bw = torch.randint(0,num_total_char,(13,4,7))\n",
    "start_pos_fw = 0\n",
    "start_pos_bw = 7\n",
    "### shape (batch_size)\n",
    "target=torch.randint(0,vocab_size,(13,))\n",
    "###\n",
    "pretrain_model = Pretraining(num_total_char, char_dim, width_list, num_filters_list,\n",
    "    att_output_dim, ffw_dim, num_heads, num_block, num_heads_last,\n",
    "    vocab_size, cutoffs)\n",
    "#\n",
    "_, prediction = pretrain_model(ts10A_input_fw, ts20A_input_bw, start_pos_fw, start_pos_bw)\n",
    "loss, _ = pretrain_model(ts10A_input_fw, ts20A_input_bw, start_pos_fw, start_pos_bw, target)\n",
    "print(prediction.shape)\n",
    "print(loss, loss.shape)"
   ]
  },
  {
   "cell_type": "markdown",
   "id": "bc390895",
   "metadata": {},
   "source": [
    "#### [A05] Test finetuning model"
   ]
  },
  {
   "cell_type": "code",
   "execution_count": 3,
   "id": "8aba40b6",
   "metadata": {},
   "outputs": [],
   "source": [
    "num_total_char = 200\n",
    "char_dim = 128\n",
    "width_list = [1,2,3,4,5,6]\n",
    "num_filters_list = [128,256,384,512,512,512]\n",
    "att_output_dim = 1024\n",
    "ffw_dim = 4096\n",
    "num_heads = 16\n",
    "num_block = 12\n",
    "lstm_hid_dim = 4096\n",
    "lstm_proj_dim = 512\n",
    "num_tags = 5\n",
    "pretrain_twotower = pretrain_model.two_tower\n",
    "###\n",
    "### we have 13 sentences, each sentence has 11 words\n",
    "### shape (batch_size, seq_size, max_len+2) = (13,11,7)\n",
    "ts10A_input = torch.randint(0,num_total_char,(13,11,7))\n",
    "target=torch.randint(0,num_tags,(13,11,))\n",
    "###\n",
    "finetuning_model = Finetuning(num_total_char, char_dim, width_list, num_filters_list,\n",
    "    att_output_dim, ffw_dim, num_heads, num_block,\n",
    "    lstm_hid_dim, lstm_proj_dim, num_tags, pretrain_twotower)"
   ]
  },
  {
   "cell_type": "code",
   "execution_count": 4,
   "id": "93a08a94",
   "metadata": {},
   "outputs": [
    {
     "name": "stdout",
     "output_type": "stream",
     "text": [
      "torch.Size([13, 11])\n",
      "tensor(230.2599, grad_fn=<SumBackward0>) torch.Size([])\n"
     ]
    }
   ],
   "source": [
    "_, prediction = finetuning_model(ts10A_input)\n",
    "loss, _ = finetuning_model(ts10A_input,target)\n",
    "print(prediction.shape)\n",
    "print(loss, loss.shape)"
   ]
  },
  {
   "cell_type": "code",
   "execution_count": null,
   "id": "bf5f7d48",
   "metadata": {},
   "outputs": [],
   "source": []
  },
  {
   "cell_type": "code",
   "execution_count": null,
   "id": "7eb3f19b",
   "metadata": {},
   "outputs": [],
   "source": []
  }
 ],
 "metadata": {
  "kernelspec": {
   "display_name": "Python 3",
   "language": "python",
   "name": "python3"
  },
  "language_info": {
   "codemirror_mode": {
    "name": "ipython",
    "version": 3
   },
   "file_extension": ".py",
   "mimetype": "text/x-python",
   "name": "python",
   "nbconvert_exporter": "python",
   "pygments_lexer": "ipython3",
   "version": "3.9.7"
  }
 },
 "nbformat": 4,
 "nbformat_minor": 5
}
